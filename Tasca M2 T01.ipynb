{
 "cells": [
  {
   "cell_type": "markdown",
   "id": "d5138d92",
   "metadata": {},
   "source": [
    "# Tasca M2 T01"
   ]
  },
  {
   "cell_type": "markdown",
   "id": "5f7e0fd1",
   "metadata": {},
   "source": [
    "## - Exercici 1\n",
    "Crea una llista que agrupi els mesos de l’any en trimestres (1T: gener, febrer i març; 2T: abril, maig, juny...), és a dir, una llista amb 4 llistes dins."
   ]
  },
  {
   "cell_type": "code",
   "execution_count": 4,
   "id": "0f9c959f",
   "metadata": {},
   "outputs": [
    {
     "name": "stdout",
     "output_type": "stream",
     "text": [
      "[['gener', 'febrer', 'març'], ['abril', 'maig', 'juny'], ['juliol', 'agost', 'setembre'], ['octubre', 'novembre', 'desembre']]\n"
     ]
    }
   ],
   "source": [
    "t1 = [\"gener\",\"febrer\",\"març\"]\n",
    "t2 = [\"abril\",\"maig\",\"juny\"]\n",
    "t3 = [\"juliol\",\"agost\",\"setembre\"]\n",
    "t4 = [\"octubre\",\"novembre\",\"desembre\"]\n",
    "\n",
    "lst = []\n",
    "\n",
    "lst.append(t1)\n",
    "lst.append(t2)\n",
    "lst.append(t3)\n",
    "lst.append(t4)\n",
    "print(lst)"
   ]
  },
  {
   "cell_type": "markdown",
   "id": "1effd0cb",
   "metadata": {},
   "source": [
    "## - Exercici 2\n",
    "Crea un codi que et permeti accedir a:\n",
    "\n",
    "El segon mes del primer trimestre.\n",
    "Els mesos del primer trimestre.\n",
    "Setembre i octubre."
   ]
  },
  {
   "cell_type": "code",
   "execution_count": 5,
   "id": "c43bcc09",
   "metadata": {},
   "outputs": [
    {
     "name": "stdout",
     "output_type": "stream",
     "text": [
      "febrer\n"
     ]
    }
   ],
   "source": [
    "print(t1[1])"
   ]
  },
  {
   "cell_type": "code",
   "execution_count": 6,
   "id": "ef3888d8",
   "metadata": {},
   "outputs": [
    {
     "name": "stdout",
     "output_type": "stream",
     "text": [
      "['gener', 'febrer', 'març']\n"
     ]
    }
   ],
   "source": [
    "print(t1)"
   ]
  },
  {
   "cell_type": "code",
   "execution_count": 7,
   "id": "149ed206",
   "metadata": {},
   "outputs": [
    {
     "name": "stdout",
     "output_type": "stream",
     "text": [
      "setembre octubre\n"
     ]
    }
   ],
   "source": [
    "print(t3[2],t4[0])"
   ]
  },
  {
   "cell_type": "markdown",
   "id": "9f4058ce",
   "metadata": {},
   "source": [
    "## - Exercici 3\n",
    "Crea una llista amb nombres desordenats i respon a les següents preguntes:\n",
    "\n",
    "Quants números hi ha?"
   ]
  },
  {
   "cell_type": "code",
   "execution_count": 8,
   "id": "3a7bbc73",
   "metadata": {},
   "outputs": [],
   "source": [
    "list1 = [5,6,3,3,4,7,1,9,5,2,8,9]"
   ]
  },
  {
   "cell_type": "code",
   "execution_count": 9,
   "id": "ac16c49c",
   "metadata": {},
   "outputs": [
    {
     "name": "stdout",
     "output_type": "stream",
     "text": [
      "Quants números hi ha:  12\n"
     ]
    }
   ],
   "source": [
    "\n",
    "print(\"Quants números hi ha: \", len(list1))"
   ]
  },
  {
   "cell_type": "markdown",
   "id": "a784d5ba",
   "metadata": {},
   "source": [
    "Quantes vegades apareix el número 3."
   ]
  },
  {
   "cell_type": "code",
   "execution_count": 10,
   "id": "45377d97",
   "metadata": {},
   "outputs": [
    {
     "data": {
      "text/plain": [
       "2"
      ]
     },
     "execution_count": 10,
     "metadata": {},
     "output_type": "execute_result"
    }
   ],
   "source": [
    "list1.count(3)"
   ]
  },
  {
   "cell_type": "markdown",
   "id": "73d30f78",
   "metadata": {},
   "source": [
    "Quantes vegades apareixen els nombres 3 i 4? "
   ]
  },
  {
   "cell_type": "code",
   "execution_count": 11,
   "id": "290a356b",
   "metadata": {},
   "outputs": [
    {
     "data": {
      "text/plain": [
       "3"
      ]
     },
     "execution_count": 11,
     "metadata": {},
     "output_type": "execute_result"
    }
   ],
   "source": [
    "list1.count(3) + list1.count(4)\n",
    "             "
   ]
  },
  {
   "cell_type": "markdown",
   "id": "bc31c9ee",
   "metadata": {},
   "source": [
    "Quin és el número més gran? "
   ]
  },
  {
   "cell_type": "code",
   "execution_count": 37,
   "id": "c993aba1",
   "metadata": {},
   "outputs": [
    {
     "data": {
      "text/plain": [
       "9"
      ]
     },
     "execution_count": 37,
     "metadata": {},
     "output_type": "execute_result"
    }
   ],
   "source": [
    "max(list1)"
   ]
  },
  {
   "cell_type": "markdown",
   "id": "5e7e98b5",
   "metadata": {},
   "source": [
    "Quins són els 3 números més petits? "
   ]
  },
  {
   "cell_type": "code",
   "execution_count": 14,
   "id": "bb912380",
   "metadata": {},
   "outputs": [],
   "source": [
    "list1.sort()"
   ]
  },
  {
   "cell_type": "code",
   "execution_count": 15,
   "id": "b12c0c10",
   "metadata": {},
   "outputs": [
    {
     "data": {
      "text/plain": [
       "[1, 2, 3, 3, 4, 5, 5, 6, 7, 8, 9, 9]"
      ]
     },
     "execution_count": 15,
     "metadata": {},
     "output_type": "execute_result"
    }
   ],
   "source": [
    "list1"
   ]
  },
  {
   "cell_type": "code",
   "execution_count": 16,
   "id": "49c40f34",
   "metadata": {},
   "outputs": [
    {
     "name": "stdout",
     "output_type": "stream",
     "text": [
      "[1, 2, 3]\n"
     ]
    }
   ],
   "source": [
    "print(list1[:3])"
   ]
  },
  {
   "cell_type": "markdown",
   "id": "9e560c24",
   "metadata": {},
   "source": [
    "Quin és el rang d’aquesta llista?"
   ]
  },
  {
   "cell_type": "code",
   "execution_count": 17,
   "id": "6721f0ea",
   "metadata": {},
   "outputs": [
    {
     "data": {
      "text/plain": [
       "8"
      ]
     },
     "execution_count": 17,
     "metadata": {},
     "output_type": "execute_result"
    }
   ],
   "source": [
    "max(list1) - min(list1)"
   ]
  },
  {
   "cell_type": "markdown",
   "id": "c0d5e391",
   "metadata": {},
   "source": [
    "## - Exercici 4 \n",
    "\n",
    "Crea un diccionari de la següent forma i respon a les preguntes:"
   ]
  },
  {
   "cell_type": "markdown",
   "id": "7a652567",
   "metadata": {},
   "source": [
    "Afegeix alguna fruita més"
   ]
  },
  {
   "cell_type": "code",
   "execution_count": 18,
   "id": "b3a9f45b",
   "metadata": {},
   "outputs": [],
   "source": [
    "compra = { \"Pomes\" : {\"Qty\": 5, \"€\": 0.42}, \"Peres\" : {\"Qty\": 3, \"€\": 0.66} }"
   ]
  },
  {
   "cell_type": "code",
   "execution_count": 19,
   "id": "b51bdc49",
   "metadata": {},
   "outputs": [
    {
     "name": "stdout",
     "output_type": "stream",
     "text": [
      "{'Pomes': {'Qty': 5, '€': 0.42}, 'Peres': {'Qty': 3, '€': 0.66}, 'Pressecs': {'Qty': 2, '€': 0.88}}\n"
     ]
    }
   ],
   "source": [
    "compra[\"Pressecs\"] = {\"Qty\":2, \"€\":0.88} \n",
    "print(compra)"
   ]
  },
  {
   "cell_type": "markdown",
   "id": "675b47a1",
   "metadata": {},
   "source": [
    "Quant han costat les peres en total?"
   ]
  },
  {
   "cell_type": "code",
   "execution_count": 20,
   "id": "5a9825de",
   "metadata": {},
   "outputs": [
    {
     "name": "stdout",
     "output_type": "stream",
     "text": [
      "{'Qty': 3, '€': 0.66}\n"
     ]
    }
   ],
   "source": [
    "print(compra[\"Peres\"])"
   ]
  },
  {
   "cell_type": "code",
   "execution_count": 21,
   "id": "ac1c347f",
   "metadata": {},
   "outputs": [
    {
     "name": "stdout",
     "output_type": "stream",
     "text": [
      "1.98\n"
     ]
    }
   ],
   "source": [
    "print(3*0.66)"
   ]
  },
  {
   "cell_type": "markdown",
   "id": "893c592c",
   "metadata": {},
   "source": [
    "Quantes fruites hem comprat en total?\n"
   ]
  },
  {
   "cell_type": "code",
   "execution_count": 22,
   "id": "a5d11674",
   "metadata": {},
   "outputs": [
    {
     "name": "stdout",
     "output_type": "stream",
     "text": [
      "3\n"
     ]
    }
   ],
   "source": [
    "print(len(compra))"
   ]
  },
  {
   "cell_type": "markdown",
   "id": "9f7c1876",
   "metadata": {},
   "source": [
    "\n",
    "Quina és la fruita més cara?"
   ]
  },
  {
   "cell_type": "code",
   "execution_count": 61,
   "id": "198a435b",
   "metadata": {},
   "outputs": [
    {
     "name": "stdout",
     "output_type": "stream",
     "text": [
      "Pressecs\n"
     ]
    }
   ],
   "source": [
    "frutaMax = list(compra.keys())[0]\n",
    "for x in compra:\n",
    "    if compra[x][\"€\"]> compra[frutaMax][\"€\"]:\n",
    "        frutaMax = x\n",
    "print(frutaMax)"
   ]
  }
 ],
 "metadata": {
  "kernelspec": {
   "display_name": "Python 3 (ipykernel)",
   "language": "python",
   "name": "python3"
  },
  "language_info": {
   "codemirror_mode": {
    "name": "ipython",
    "version": 3
   },
   "file_extension": ".py",
   "mimetype": "text/x-python",
   "name": "python",
   "nbconvert_exporter": "python",
   "pygments_lexer": "ipython3",
   "version": "3.9.12"
  }
 },
 "nbformat": 4,
 "nbformat_minor": 5
}
